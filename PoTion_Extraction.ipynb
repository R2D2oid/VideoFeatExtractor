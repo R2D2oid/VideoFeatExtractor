{
 "cells": [
  {
   "cell_type": "markdown",
   "metadata": {},
   "source": [
    "# PoTion Representation Extractor \n",
    "\n",
    "This notebook computes PoTion [1] representation of a given video based on estimated pose. The steps are outlined throughout the notebook. \n",
    "\n",
    "#### References:\n",
    "[1] *PoTion: Pose MoTion Representation for Action Recognition*, Choutas et al.\n"
   ]
  },
  {
   "cell_type": "code",
   "execution_count": null,
   "metadata": {},
   "outputs": [],
   "source": [
    "T = 8\n",
    "root_dir      = '/usr/local/data01/zahra/repos/VideoFeatExtratotor'\n",
    "videos_dir    = '/usr/local/data02/zahra/datasets/Tempuckey/videos'\n",
    "frames_dir    = '/usr/local/data02/zahra/datasets/Tempuckey/frames'\n",
    "op_dir        = '/usr/local/data02/zahra/datasets/Tempuckey/feats/openpose'\n",
    "potion_dir    = '/usr/local/data02/zahra/datasets/Tempuckey/feats/potion/win_{}'.format(T)\n",
    "potion_resnet_dir    = '/usr/local/data02/zahra/datasets/Tempuckey/feats/potion/win_{}_resnet'.format(T)"
   ]
  },
  {
   "cell_type": "code",
   "execution_count": null,
   "metadata": {},
   "outputs": [],
   "source": [
    "import matplotlib.pyplot as plt\n",
    "%matplotlib inline\n",
    "\n",
    "import numpy as np\n",
    "import pandas as pd\n",
    "import json\n",
    "\n",
    "from numpy import newaxis\n",
    "\n",
    "from utils.sys_utils import *\n",
    "from utils.video_utils import *"
   ]
  },
  {
   "cell_type": "code",
   "execution_count": null,
   "metadata": {},
   "outputs": [],
   "source": [
    "vids = get_files_path(op_dir)\n",
    "vidnames = set(['_'.join(v.split('/')[-1].split('_')[:3]) for v in vids])\n",
    "# need to remove video_FACEOFF_000523 from the completed videos bcz it may not have completed all the frames (it was the last video to be processed so it may have been incpmplete)\n",
    "# print(list(vids)[:3])\n",
    "# print(list(vidnames)[:3])\n",
    "# print(len(completed_vids))"
   ]
  },
  {
   "cell_type": "code",
   "execution_count": null,
   "metadata": {},
   "outputs": [],
   "source": [
    "file_path = '/usr/local/data02/zahra/datasets/Tempuckey/labels/tempuckey_video_info_gt_labels_split.csv'\n",
    "labels_df = pd.read_csv(file_path)\n",
    "test_videos = list(labels_df[labels_df['split'] == 'test'].video_name)\n",
    "test_videos = set([v.split('.')[0] for v in test_videos])"
   ]
  },
  {
   "cell_type": "code",
   "execution_count": null,
   "metadata": {},
   "outputs": [],
   "source": [
    "test_vids_with_pose = test_videos.intersection(vidnames)\n",
    "if len(test_videos) == len(test_vids_with_pose):\n",
    "    print('all test videos have pose')"
   ]
  },
  {
   "cell_type": "markdown",
   "metadata": {},
   "source": [
    "# 1. Load heatmaps for all the frames in a video \n",
    "\n",
    "- ### <span style=\"color:green\"> **2.1**</span> obtain joint heatmaps \n",
    "  - returns $H_j^t[x,y]$\n",
    "  - in our BODY\\_25 model, each image 1,2,...,25 contains all the same joints detected for everyone in the image"
   ]
  },
  {
   "cell_type": "code",
   "execution_count": null,
   "metadata": {},
   "outputs": [],
   "source": [
    "def heatmap_files_by_vname(op_dir):\n",
    "    files = get_files_path(op_dir)\n",
    "    files = [f for f in files if '_heatmaps_' in f]\n",
    "    hm_by_vname = {}\n",
    "    for f in files:\n",
    "        v = '_'.join(f.split('/')[-1].split('_')[:3])\n",
    "        if v in hm_by_vname.keys():\n",
    "            hm_by_vname[v].append(f)\n",
    "        else:\n",
    "            hm_by_vname[v] = [f]\n",
    "            \n",
    "    return hm_by_vname"
   ]
  },
  {
   "cell_type": "code",
   "execution_count": null,
   "metadata": {},
   "outputs": [],
   "source": [
    "def create_colorized_heatmaps(potion_dir, vname, beg_f, end_f, heatmaps_t, win = 8):\n",
    "    T = win # create PoTion for a rolling window of size T=8 and T=32\n",
    "    L = heatmaps_t.shape[0]\n",
    "\n",
    "    count = 0\n",
    "    \n",
    "    beg_idx = 0\n",
    "    end_idx = 0\n",
    "\n",
    "    for t in range(T, L+T, T):\n",
    "        count += 1\n",
    "        beg_idx = end_idx \n",
    "        end_idx = t \n",
    "        # print(beg_idx, end_idx)\n",
    "        # print(heatmaps_t[beg_idx:end_idx].shape)\n",
    "        colorized_heatmap_t = get_colorized_heatmaps(heatmaps_t[beg_idx:end_idx], T)\n",
    "        output_path = '{}/{}_colorized_heatmaps_T_25_w_h_3rgb_{}_{}_{}_{}'.format(potion_dir, vname, beg_f, end_f, str(beg_idx), str(end_idx-1))\n",
    "        np.save(output_path, colorized_heatmap_t)\n",
    "        print('stored colorized heatmap at {}\\n'.format(output_path))\n",
    "    \n",
    "    return count # number of colorized heatmaps generated and saved"
   ]
  },
  {
   "cell_type": "markdown",
   "metadata": {},
   "source": [
    "## >> Extract Heatmaps for every frame in the videos "
   ]
  },
  {
   "cell_type": "code",
   "execution_count": null,
   "metadata": {},
   "outputs": [],
   "source": [
    "hm_by_vname = heatmap_files_by_vname(op_dir)\n",
    "videos = list(test_vids_with_pose)"
   ]
  },
  {
   "cell_type": "code",
   "execution_count": null,
   "metadata": {},
   "outputs": [],
   "source": [
    "for v in videos:\n",
    "    print('processing video {}'.format(v))\n",
    "    vid_hm_files = hm_by_vname[v]\n",
    "    for path_ in vid_hm_files:\n",
    "        print('loading {}'.format(path_))\n",
    "        try:\n",
    "            heatmaps_t = np.load(path_) #, allow_pickle = True)\n",
    "        except ValueError as e:\n",
    "            print('could not load video {} heatmap from \\n{} '.format(v, path_))\n",
    "            print(e)\n",
    "            continue\n",
    "            \n",
    "        # print(heatmaps_t.shape)\n",
    "        beg_f = path_.split('/')[-1].split('.')[0].split('_')[8]\n",
    "        end_f = path_.split('/')[-1].split('.')[0].split('_')[9]\n",
    "        # print(beg_f, end_f)\n",
    "        count = create_colorized_heatmaps(potion_dir, v, beg_f, end_f, heatmaps_t, win = T)\n",
    "        print('generated {} colorized heatmaps'.format(count))\n",
    "        \n",
    "        print('**************************\\n')\n",
    "    print('completed processing video {}\\n\\n-------------------------'.format(v))"
   ]
  },
  {
   "cell_type": "markdown",
   "metadata": {},
   "source": [
    "# 3. Obtain PoTion representation of the original pose keypoints\n"
   ]
  },
  {
   "cell_type": "markdown",
   "metadata": {},
   "source": [
    "- ### <span style=\"color:green\"> **3.1**</span> obtain colorization \n",
    " - returns a unique colorization scheme o(t) for a given number of channels c = \\[2,3,..\\] \n",
    "\n",
    " - for c = 2 we have $o(t) = (\\frac{t-1}{T-1}, 1-\\frac{t-1}{T-1})$\n",
    " - for c = 3 we have\n",
    "   - $t<\\frac{T}{2}$:     $o(t) = (1 - \\frac{t-1}{\\frac{T}{2}-1} , \\frac{t-1}{\\frac{T}{2}-1} , 0)$\n",
    "   - $t\\geq \\frac{T}{2}$: $o(t) = (0 , 1 - \\frac{t - \\frac{T}{2}}{\\frac{T}{2}-1}, \\frac{t-\\frac{T}{2}}{\\frac{T}{2}-1})$\n",
    "\n",
    "\n",
    "- ### <span style=\"color:green\"> **3.2**</span> obtain colorized heatmapts\n",
    " - returns colorized heatmapts of joint $j$ at pixel $x$ and $y$ at time $t$ using $C_j^t[x,y,c] = H_j^t[x,y] o(t)$\n",
    "\n",
    "- ### <span style=\"color:green\"> **3.3**</span> Aggregated Colorized Heatmaps \n",
    " - #### <span style=\"color:green\"> **3.3.1**</span> Sum of heatmaps for each joint j\n",
    "   $$\\mathcal{S}_j = \\sum_{t=1}^T C_j^t $$\n",
    " - #### <span style=\"color:green\"> **3.3.2**</span> PoTion representation\n",
    "   $$\\mathcal{U_j}[x,y,c] = \\frac{S_j[x,y,c]}{max_{x',y'} S_j[x',y',c]} $$\n",
    " - #### <span style=\"color:green\"> **3.3.3**</span> Intensity image\n",
    "   $$\\mathcal{I}_j = \\sum_{c=1}^C \\mathcal{U}_j[x,y,c]$$\n",
    " - #### <span style=\"color:green\"> **3.3.4**</span> normalized PoTion representation\n",
    "   $$\\mathcal{N}_j[x,y,c] = \\frac{\\mathcal{U}_j[x,y,c]}{\\epsilon + \\mathcal{I}_j[x,y]}$$"
   ]
  },
  {
   "cell_type": "markdown",
   "metadata": {},
   "source": [
    "## <span style=\"color:green\"> **3.1**</span> Obtain Colorization scheme"
   ]
  },
  {
   "cell_type": "code",
   "execution_count": null,
   "metadata": {
    "scrolled": true
   },
   "outputs": [],
   "source": [
    "def get_colorization(T,C = 3):\n",
    "    # T = total_num_frames + 1   \n",
    "    # T must be an even number. If T is odd, we can simply add one to make numbers even. \n",
    "    # all that matters is to get unique colors) \n",
    "    if T%2 != 0:\n",
    "        T += 1\n",
    "    \n",
    "    red = []\n",
    "    blue = []\n",
    "    green = []\n",
    "    \n",
    "    t = 0\n",
    "    \n",
    "    for i in range(T-1):\n",
    "        t = i+1\n",
    "\n",
    "        if C == 2:\n",
    "            r, g, b = (t-1)/(T-1), 1 - (t-1)/(T-1), 0.\n",
    "            \n",
    "        if C == 3:\n",
    "            if t <= T/2:\n",
    "                r, g, b = 1 - ((t-1) / (T/2-1)), (t-1) / (T/2-1), 0.\n",
    "            elif t < T:\n",
    "                r, g, b = 0., 1 - (t - (T/2)) / (T/2-1), (t - (T/2)) / (T/2-1)\n",
    "        \n",
    "        red.append(r)\n",
    "        blue.append(b)\n",
    "        green.append(g)\n",
    "\n",
    "    return red,green,blue"
   ]
  },
  {
   "cell_type": "code",
   "execution_count": null,
   "metadata": {},
   "outputs": [],
   "source": [
    "ww = 32\n",
    "red,green,blue = get_colorization(ww+2, C = 3) # T+2 to  ensure we get more than or equal unique colors for each frame \n",
    "\n",
    "import matplotlib.pyplot as plt\n",
    "%matplotlib inline\n",
    "\n",
    "plt.plot(red, color = 'r')\n",
    "plt.plot(green, color = 'g')\n",
    "plt.plot(blue, color = 'b')\n",
    "plt.show()\n"
   ]
  },
  {
   "cell_type": "markdown",
   "metadata": {},
   "source": [
    "## <span style=\"color:green\"> **3.2**</span> Obtain Colorized Heatmaps"
   ]
  },
  {
   "cell_type": "code",
   "execution_count": null,
   "metadata": {},
   "outputs": [],
   "source": [
    "def get_colorized_heatmaps(poseHeatMaps_t, T):\n",
    "    print(poseHeatMaps_t.shape)\n",
    "\n",
    "    red,green,blue = get_colorization(T + 2, C = 3)\n",
    "    \n",
    "    num_frames = poseHeatMaps_t.shape[0]\n",
    "    \n",
    "    # T: countFrames\n",
    "    C_t = []\n",
    "    for t in range(min(T,num_frames)):\n",
    "        C_j = []\n",
    "        for j in range(25):\n",
    "            #print(t,j)\n",
    "            # j_num = j+1 # joint number 1 to 25\n",
    "            H = np.array(poseHeatMaps_t[t][j])\n",
    "            H = H/(H.max()-H.min())\n",
    "            # takes a single channel image H and returns an RGB image based on the colorization scheme at time t\n",
    "            C_j.append(H[:,:, newaxis] * np.array([red[t],green[t],blue[t]]))\n",
    "        C_t.append(C_j)\n",
    "    \n",
    "    return np.array(C_t) # (T, 25, w , h, 3_rgb) => ex. (61, 25, 368, 656, 3)"
   ]
  },
  {
   "cell_type": "code",
   "execution_count": null,
   "metadata": {},
   "outputs": [],
   "source": [
    "# openpose joint index\n",
    "# //     {0,  \"Nose\"},\n",
    "# //     {1,  \"Neck\"},\n",
    "# //     {2,  \"RShoulder\"},\n",
    "# //     {3,  \"RElbow\"},\n",
    "# //     {4,  \"RWrist\"},\n",
    "# //     {5,  \"LShoulder\"},\n",
    "# //     {6,  \"LElbow\"},\n",
    "# //     {7,  \"LWrist\"},\n",
    "# //     {8,  \"MidHip\"},\n",
    "# //     {9,  \"RHip\"},\n",
    "# //     {10, \"RKnee\"},\n",
    "# //     {11, \"RAnkle\"},\n",
    "# //     {12, \"LHip\"},\n",
    "# //     {13, \"LKnee\"},\n",
    "# //     {14, \"LAnkle\"},\n",
    "# //     {15, \"REye\"},\n",
    "# //     {16, \"LEye\"},\n",
    "# //     {17, \"REar\"},\n",
    "# //     {18, \"LEar\"},\n",
    "# //     {19, \"LBigToe\"},\n",
    "# //     {20, \"LSmallToe\"},\n",
    "# //     {21, \"LHeel\"},\n",
    "# //     {22, \"RBigToe\"},\n",
    "# //     {23, \"RSmallToe\"},\n",
    "# //     {24, \"RHeel\"},\n",
    "# //     {25, \"Background\"}"
   ]
  },
  {
   "cell_type": "code",
   "execution_count": null,
   "metadata": {},
   "outputs": [],
   "source": [
    "def colorized_heatmaps_files_by_vname(potion_dir):\n",
    "    files = get_files_path(potion_dir)\n",
    "    files = [f for f in files if '_colorized_heatmaps_' in f]\n",
    "    hm_by_vname = {}\n",
    "    for f in files:\n",
    "        v = '_'.join(f.split('/')[-1].split('_')[:3])\n",
    "        if v in hm_by_vname.keys():\n",
    "            hm_by_vname[v].append(f)\n",
    "        else:\n",
    "            hm_by_vname[v] = [f]\n",
    "            \n",
    "    return hm_by_vname"
   ]
  },
  {
   "cell_type": "markdown",
   "metadata": {},
   "source": [
    "## 3.3 Aggregated Colorized Heatmaps to Obtain PoTion"
   ]
  },
  {
   "cell_type": "markdown",
   "metadata": {},
   "source": [
    "#### <span style=\"color:green\"> **3.3.1**</span> Sum of heatmaps for each joint j\n",
    "   $$\\mathcal{S}_j = \\sum_{t=1}^T C_j^t $$\n"
   ]
  },
  {
   "cell_type": "markdown",
   "metadata": {},
   "source": [
    "#### <span style=\"color:green\"> **3.3.2**</span> PoTion representation\n",
    "   $$\\mathcal{U_j}[x,y,c] = \\frac{S_j[x,y,c]}{max_{x',y'} S_j[x',y',c]} $$"
   ]
  },
  {
   "cell_type": "markdown",
   "metadata": {},
   "source": [
    "#### <span style=\"color:green\"> **3.3.3**</span> Intensity image\n",
    "   $$\\mathcal{I}_j = \\sum_{c=1}^C \\mathcal{U}_j[x,y,c]$$\n"
   ]
  },
  {
   "cell_type": "markdown",
   "metadata": {},
   "source": [
    "#### <span style=\"color:green\"> **3.3.4**</span> normalized PoTion representation\n",
    "   $$\\mathcal{N}_j[x,y,c] = \\frac{\\mathcal{U}_j[x,y,c]}{\\epsilon + \\mathcal{I}_j[x,y]}$$"
   ]
  },
  {
   "cell_type": "code",
   "execution_count": null,
   "metadata": {},
   "outputs": [],
   "source": [
    "def get_normalized_PoTion(colorized_heatmap_t, vid_name, potion_dir, beg_f, end_f, beg_minor_f, end_minor_f):\n",
    "    ###### PoTion Representation ######\n",
    "    # 3.3.1 Sum of heatmaps for each joint j\n",
    "    # 3.3.2 PoTion representation\n",
    "    # 3.3.3 intensity image\n",
    "    # 3.3.4 normalized PoTion representation\n",
    "\n",
    "    n_channels = 3\n",
    "    epsilon = 1\n",
    "    count = 0\n",
    "    C_t = colorized_heatmap_t\n",
    "    \n",
    "    T = colorized_heatmap_t.shape[0]\n",
    "    for j in range(25):\n",
    "        # get colorized heatmap for a specific joint\n",
    "        Cj_t = C_t[:,j,:,:,:]\n",
    "\n",
    "        ## 3.3.1 aggregate the colorized heatmap over T\n",
    "        S_j = Cj_t.sum(axis=0)\n",
    "\n",
    "        ## 3.3.2 potion: normalize the aggregated colorizedheatmap\n",
    "        U_j = np.zeros(list(S_j.shape))\n",
    "        for c in range(n_channels):\n",
    "            U_j[:,:,c] = S_j[:,:,c] / S_j[:,:,c].max()\n",
    "\n",
    "        ## 3.3.3 intensity image\n",
    "        I_j = np.sum(U_j, axis = 2) # sums over all channels c to obtain a single channel image\n",
    "\n",
    "        ## 3.3.4 normalized PoTion representation\n",
    "        N_j = U_j/(epsilon+I_j[:,:,newaxis])\n",
    "\n",
    "        output_path ='{}/{}_normalized_PoTion_joint_{}_{}_{}_{}_{}.PoTion'.format(potion_dir, vid_name, j, beg_f, end_f, beg_minor_f, end_minor_f)\n",
    "        print('saving norm PoTion {}'.format(output_path))\n",
    "        np.save(output_path, np.array(N_j))\n",
    "        count += 1\n",
    "    return count"
   ]
  },
  {
   "cell_type": "markdown",
   "metadata": {},
   "source": [
    "## >> Extract PoTion images with window = T for all the 25 joints (one per joint over T)"
   ]
  },
  {
   "cell_type": "code",
   "execution_count": null,
   "metadata": {},
   "outputs": [],
   "source": [
    "# get colorized heatmaps path by video name\n",
    "ch_files_by_vname = colorized_heatmaps_files_by_vname(potion_dir)"
   ]
  },
  {
   "cell_type": "code",
   "execution_count": null,
   "metadata": {},
   "outputs": [],
   "source": [
    "for v in videos_with_colorized_heatmap:\n",
    "    print('processing video {}'.format(v))\n",
    "    vid_ch_files = ch_files_by_vname[v]\n",
    "    for path_ in vid_ch_files:\n",
    "        print('loading {}'.format(path_))\n",
    "        try:\n",
    "            ColorizedHeatmaps_t = np.load(path_) #, allow_pickle = True)\n",
    "        except ValueError as e:\n",
    "            print('could not load video {} from \\n{} '.format(v, path_))\n",
    "            print(e)\n",
    "            continue\n",
    "        \n",
    "        # beg_f = path_.split('/')[-1].split('.')[0].split('_')[9]\n",
    "        beg_f = path_.split('/')[-1].split('.')[0].split('_')[9]\n",
    "        end_f = path_.split('/')[-1].split('.')[0].split('_')[10]\n",
    "        beg_minor_f = path_.split('/')[-1].split('.')[0].split('_')[11]\n",
    "        end_minor_f = path_.split('/')[-1].split('.')[0].split('_')[12]\n",
    "        \n",
    "        count = get_normalized_PoTion(ColorizedHeatmaps_t, v, potion_dir, beg_f, end_f, beg_minor_f, end_minor_f)\n",
    "        print('generated {} PoTion images'.format(count))\n",
    "        print('**************************\\n')\n",
    "    print('completed processing video {}\\n\\n-------------------------'.format(v))    "
   ]
  },
  {
   "cell_type": "markdown",
   "metadata": {},
   "source": [
    "## Extract Resnet features from PoTion Image"
   ]
  },
  {
   "cell_type": "code",
   "execution_count": null,
   "metadata": {},
   "outputs": [],
   "source": [
    "def potion_images_by_vname(files_lst):\n",
    "    \n",
    "    files_lst = sorted(files_lst)\n",
    "    \n",
    "    potion_by_vname = {}\n",
    "    for f in files_lst:\n",
    "        v = '_'.join(f.split('/')[-1].split('_')[:3])\n",
    "        if v in potion_by_vname.keys():\n",
    "            potion_by_vname[v].append(f)\n",
    "        else:\n",
    "            potion_by_vname[v] = [f]\n",
    "        \n",
    "    return potion_by_vname"
   ]
  },
  {
   "cell_type": "code",
   "execution_count": null,
   "metadata": {},
   "outputs": [],
   "source": [
    "## fixing frame number in previously generated filenames \n",
    "# cnt = 0\n",
    "# for files_by_vid in potion_imgs_joint4_by_video.values():\n",
    "#     for v in files_by_vid:\n",
    "#         f_num_padded = v.split('/')[-1].split('_')[-1].split('.')[0].zfill(4)\n",
    "#         path_ = '/'.join(v.split('/')[:-1])\n",
    "#         name_ = '_'.join(v.split('/')[-1].split('_')[:-1])\n",
    "#         new_fname = '{}/{}_{}.PoTion.npy'.format(path_, name_, f_num_padded)\n",
    "#         print('mv {} {}'.format(v, new_fname))\n",
    "#         cnt+=1 "
   ]
  },
  {
   "cell_type": "code",
   "execution_count": null,
   "metadata": {},
   "outputs": [],
   "source": [
    "from PIL import Image\n",
    "from torchvision import transforms\n",
    "import torch\n",
    "\n",
    "potion_imgs_all_videos = get_files_path(potion_dir)\n",
    "potion_imgs_all_videos_joint4 = [i for i in potion_imgs_all_videos if 'joint_4' in i and i.split('.')[-2] == 'PoTion']"
   ]
  },
  {
   "cell_type": "code",
   "execution_count": null,
   "metadata": {},
   "outputs": [],
   "source": [
    "# get them categorized by video name so that we can extract resnet feats per video \n",
    "potion_imgs_joint4_by_video = potion_images_by_vname(potion_imgs_all_videos_joint4)"
   ]
  },
  {
   "cell_type": "code",
   "execution_count": null,
   "metadata": {},
   "outputs": [],
   "source": [
    "def get_feat_vector(model, img):\n",
    "    model.eval()\n",
    "\n",
    "    preprocess = transforms.Compose([\n",
    "        transforms.Resize(256),\n",
    "        transforms.CenterCrop(224),\n",
    "        transforms.ToTensor(),\n",
    "        transforms.Normalize(mean = [0.485, 0.456, 0.406], std = [0.229, 0.224, 0.225]),\n",
    "    ])\n",
    "    input_tensor = preprocess(img)\n",
    "    input_batch = input_tensor.unsqueeze(0)\n",
    "\n",
    "    with torch.no_grad():\n",
    "        output = model(input_batch)\n",
    "\n",
    "    return torch.nn.functional.softmax(output[0], dim=0)\n"
   ]
  },
  {
   "cell_type": "code",
   "execution_count": null,
   "metadata": {},
   "outputs": [],
   "source": [
    "model = torch.hub.load('pytorch/vision:v0.6.0', 'resnet152', pretrained=True)\n",
    "\n",
    "for k,potion_imgs in potion_imgs_joint4_by_video.items():\n",
    "    feat_vecs = []\n",
    "    \n",
    "    for path_ in potion_imgs:\n",
    "        with open(path_,'rb') as f:\n",
    "            img = np.load(f)\n",
    "        img = img / (img.max() - img.min()) \n",
    "        img = Image.fromarray(np.uint8(img*255))\n",
    "\n",
    "        feat_vec = get_feat_vector(model, img)\n",
    "        feat_vecs.append(feat_vec)\n",
    "\n",
    "    feat_vecs = np.array([t.numpy() for t in feat_vecs])\n",
    "    output_path = '{}/{}_PoTion_joint_4_resnet_feats.npy'.format(potion_resnet_dir, k)\n",
    "    print('{}\\n shape: {}'.format(output_path, feat_vecs.shape))\n",
    "    np.save(output_path, feat_vecs)"
   ]
  },
  {
   "cell_type": "code",
   "execution_count": null,
   "metadata": {},
   "outputs": [],
   "source": [
    "# for a single video\n",
    "# feat_vecs = []\n",
    "\n",
    "# model = torch.hub.load('pytorch/vision:v0.6.0', 'resnet152', pretrained=True)\n",
    "    \n",
    "# for path_ in potion_imgs:\n",
    "#     with open(path_,'rb') as f:\n",
    "#         img = np.load(f)\n",
    "#     img = img / (img.max() - img.min()) \n",
    "#     img = Image.fromarray(np.uint8(img*255))\n",
    "    \n",
    "#     feat_vec = get_feat_vector(model, img)\n",
    "#     feat_vecs.append(feat_vec)\n",
    "\n",
    "# feat_vecs = np.array([t.numpy() for t in feat_vecs])\n",
    "\n",
    "# output_path = '{}/video_FACEOFF_000478_PoTion_joint_4_resnet_feats.npy'.format(potion_dir)\n",
    "# np.save(output_path, feat_vecs)"
   ]
  },
  {
   "cell_type": "code",
   "execution_count": null,
   "metadata": {},
   "outputs": [],
   "source": []
  },
  {
   "cell_type": "code",
   "execution_count": null,
   "metadata": {},
   "outputs": [],
   "source": []
  }
 ],
 "metadata": {
  "kernelspec": {
   "display_name": "Python 3",
   "language": "python",
   "name": "python3"
  },
  "language_info": {
   "codemirror_mode": {
    "name": "ipython",
    "version": 3
   },
   "file_extension": ".py",
   "mimetype": "text/x-python",
   "name": "python",
   "nbconvert_exporter": "python",
   "pygments_lexer": "ipython3",
   "version": "3.6.9"
  }
 },
 "nbformat": 4,
 "nbformat_minor": 2
}
